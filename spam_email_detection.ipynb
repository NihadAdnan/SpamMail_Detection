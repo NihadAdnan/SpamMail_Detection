{
  "cells": [
    {
      "cell_type": "markdown",
      "metadata": {
        "id": "ny2thW8apFyc"
      },
      "source": [
        "# Email Spam Detection"
      ]
    },
    {
      "cell_type": "markdown",
      "metadata": {
        "id": "NWbFsUmEsVaa"
      },
      "source": [
        "### Dataset"
      ]
    },
    {
      "cell_type": "code",
      "execution_count": null,
      "metadata": {
        "colab": {
          "base_uri": "https://localhost:8080/",
          "height": 424
        },
        "id": "99q0Q3jcpFyg",
        "outputId": "dc48ae31-e5b8-41f9-a064-04ea8206310a"
      },
      "outputs": [
        {
          "output_type": "execute_result",
          "data": {
            "text/plain": [
              "                                                   text  spam\n",
              "0     Subject: naturally irresistible your corporate...     1\n",
              "1     Subject: the stock trading gunslinger  fanny i...     1\n",
              "2     Subject: unbelievable new homes made easy  im ...     1\n",
              "3     Subject: 4 color printing special  request add...     1\n",
              "4     Subject: do not have money , get software cds ...     1\n",
              "...                                                 ...   ...\n",
              "5723  Subject: re : research and development charges...     0\n",
              "5724  Subject: re : receipts from visit  jim ,  than...     0\n",
              "5725  Subject: re : enron case study update  wow ! a...     0\n",
              "5726  Subject: re : interest  david ,  please , call...     0\n",
              "5727  Subject: news : aurora 5 . 2 update  aurora ve...     0\n",
              "\n",
              "[5728 rows x 2 columns]"
            ],
            "text/html": [
              "\n",
              "  <div id=\"df-2fe77c92-3ae0-48b2-8bf3-8bdb9c825cde\">\n",
              "    <div class=\"colab-df-container\">\n",
              "      <div>\n",
              "<style scoped>\n",
              "    .dataframe tbody tr th:only-of-type {\n",
              "        vertical-align: middle;\n",
              "    }\n",
              "\n",
              "    .dataframe tbody tr th {\n",
              "        vertical-align: top;\n",
              "    }\n",
              "\n",
              "    .dataframe thead th {\n",
              "        text-align: right;\n",
              "    }\n",
              "</style>\n",
              "<table border=\"1\" class=\"dataframe\">\n",
              "  <thead>\n",
              "    <tr style=\"text-align: right;\">\n",
              "      <th></th>\n",
              "      <th>text</th>\n",
              "      <th>spam</th>\n",
              "    </tr>\n",
              "  </thead>\n",
              "  <tbody>\n",
              "    <tr>\n",
              "      <th>0</th>\n",
              "      <td>Subject: naturally irresistible your corporate...</td>\n",
              "      <td>1</td>\n",
              "    </tr>\n",
              "    <tr>\n",
              "      <th>1</th>\n",
              "      <td>Subject: the stock trading gunslinger  fanny i...</td>\n",
              "      <td>1</td>\n",
              "    </tr>\n",
              "    <tr>\n",
              "      <th>2</th>\n",
              "      <td>Subject: unbelievable new homes made easy  im ...</td>\n",
              "      <td>1</td>\n",
              "    </tr>\n",
              "    <tr>\n",
              "      <th>3</th>\n",
              "      <td>Subject: 4 color printing special  request add...</td>\n",
              "      <td>1</td>\n",
              "    </tr>\n",
              "    <tr>\n",
              "      <th>4</th>\n",
              "      <td>Subject: do not have money , get software cds ...</td>\n",
              "      <td>1</td>\n",
              "    </tr>\n",
              "    <tr>\n",
              "      <th>...</th>\n",
              "      <td>...</td>\n",
              "      <td>...</td>\n",
              "    </tr>\n",
              "    <tr>\n",
              "      <th>5723</th>\n",
              "      <td>Subject: re : research and development charges...</td>\n",
              "      <td>0</td>\n",
              "    </tr>\n",
              "    <tr>\n",
              "      <th>5724</th>\n",
              "      <td>Subject: re : receipts from visit  jim ,  than...</td>\n",
              "      <td>0</td>\n",
              "    </tr>\n",
              "    <tr>\n",
              "      <th>5725</th>\n",
              "      <td>Subject: re : enron case study update  wow ! a...</td>\n",
              "      <td>0</td>\n",
              "    </tr>\n",
              "    <tr>\n",
              "      <th>5726</th>\n",
              "      <td>Subject: re : interest  david ,  please , call...</td>\n",
              "      <td>0</td>\n",
              "    </tr>\n",
              "    <tr>\n",
              "      <th>5727</th>\n",
              "      <td>Subject: news : aurora 5 . 2 update  aurora ve...</td>\n",
              "      <td>0</td>\n",
              "    </tr>\n",
              "  </tbody>\n",
              "</table>\n",
              "<p>5728 rows × 2 columns</p>\n",
              "</div>\n",
              "      <button class=\"colab-df-convert\" onclick=\"convertToInteractive('df-2fe77c92-3ae0-48b2-8bf3-8bdb9c825cde')\"\n",
              "              title=\"Convert this dataframe to an interactive table.\"\n",
              "              style=\"display:none;\">\n",
              "        \n",
              "  <svg xmlns=\"http://www.w3.org/2000/svg\" height=\"24px\"viewBox=\"0 0 24 24\"\n",
              "       width=\"24px\">\n",
              "    <path d=\"M0 0h24v24H0V0z\" fill=\"none\"/>\n",
              "    <path d=\"M18.56 5.44l.94 2.06.94-2.06 2.06-.94-2.06-.94-.94-2.06-.94 2.06-2.06.94zm-11 1L8.5 8.5l.94-2.06 2.06-.94-2.06-.94L8.5 2.5l-.94 2.06-2.06.94zm10 10l.94 2.06.94-2.06 2.06-.94-2.06-.94-.94-2.06-.94 2.06-2.06.94z\"/><path d=\"M17.41 7.96l-1.37-1.37c-.4-.4-.92-.59-1.43-.59-.52 0-1.04.2-1.43.59L10.3 9.45l-7.72 7.72c-.78.78-.78 2.05 0 2.83L4 21.41c.39.39.9.59 1.41.59.51 0 1.02-.2 1.41-.59l7.78-7.78 2.81-2.81c.8-.78.8-2.07 0-2.86zM5.41 20L4 18.59l7.72-7.72 1.47 1.35L5.41 20z\"/>\n",
              "  </svg>\n",
              "      </button>\n",
              "      \n",
              "  <style>\n",
              "    .colab-df-container {\n",
              "      display:flex;\n",
              "      flex-wrap:wrap;\n",
              "      gap: 12px;\n",
              "    }\n",
              "\n",
              "    .colab-df-convert {\n",
              "      background-color: #E8F0FE;\n",
              "      border: none;\n",
              "      border-radius: 50%;\n",
              "      cursor: pointer;\n",
              "      display: none;\n",
              "      fill: #1967D2;\n",
              "      height: 32px;\n",
              "      padding: 0 0 0 0;\n",
              "      width: 32px;\n",
              "    }\n",
              "\n",
              "    .colab-df-convert:hover {\n",
              "      background-color: #E2EBFA;\n",
              "      box-shadow: 0px 1px 2px rgba(60, 64, 67, 0.3), 0px 1px 3px 1px rgba(60, 64, 67, 0.15);\n",
              "      fill: #174EA6;\n",
              "    }\n",
              "\n",
              "    [theme=dark] .colab-df-convert {\n",
              "      background-color: #3B4455;\n",
              "      fill: #D2E3FC;\n",
              "    }\n",
              "\n",
              "    [theme=dark] .colab-df-convert:hover {\n",
              "      background-color: #434B5C;\n",
              "      box-shadow: 0px 1px 3px 1px rgba(0, 0, 0, 0.15);\n",
              "      filter: drop-shadow(0px 1px 2px rgba(0, 0, 0, 0.3));\n",
              "      fill: #FFFFFF;\n",
              "    }\n",
              "  </style>\n",
              "\n",
              "      <script>\n",
              "        const buttonEl =\n",
              "          document.querySelector('#df-2fe77c92-3ae0-48b2-8bf3-8bdb9c825cde button.colab-df-convert');\n",
              "        buttonEl.style.display =\n",
              "          google.colab.kernel.accessAllowed ? 'block' : 'none';\n",
              "\n",
              "        async function convertToInteractive(key) {\n",
              "          const element = document.querySelector('#df-2fe77c92-3ae0-48b2-8bf3-8bdb9c825cde');\n",
              "          const dataTable =\n",
              "            await google.colab.kernel.invokeFunction('convertToInteractive',\n",
              "                                                     [key], {});\n",
              "          if (!dataTable) return;\n",
              "\n",
              "          const docLinkHtml = 'Like what you see? Visit the ' +\n",
              "            '<a target=\"_blank\" href=https://colab.research.google.com/notebooks/data_table.ipynb>data table notebook</a>'\n",
              "            + ' to learn more about interactive tables.';\n",
              "          element.innerHTML = '';\n",
              "          dataTable['output_type'] = 'display_data';\n",
              "          await google.colab.output.renderOutput(dataTable, element);\n",
              "          const docLink = document.createElement('div');\n",
              "          docLink.innerHTML = docLinkHtml;\n",
              "          element.appendChild(docLink);\n",
              "        }\n",
              "      </script>\n",
              "    </div>\n",
              "  </div>\n",
              "  "
            ]
          },
          "metadata": {},
          "execution_count": 1
        }
      ],
      "source": [
        "import numpy as np\n",
        "import pandas as pd\n",
        "from io import BytesIO\n",
        "from google.colab import files\n",
        "\n",
        "# data from https://www.kaggle.com/datasets/rockinjas123/spam-ham-emails\n",
        "data = pd.read_csv('emails.csv')\n",
        "\n",
        "data"
      ]
    },
    {
      "cell_type": "markdown",
      "metadata": {
        "id": "9e_pBsUSpFyk"
      },
      "source": [
        "### Data Pre-Processing"
      ]
    },
    {
      "cell_type": "code",
      "execution_count": null,
      "metadata": {
        "colab": {
          "base_uri": "https://localhost:8080/"
        },
        "id": "_szLAbDppFyk",
        "outputId": "e74d2dc7-ff49-4021-b5b0-59b0bc90dbbb"
      },
      "outputs": [
        {
          "output_type": "stream",
          "name": "stdout",
          "text": [
            "Rows Before Pre-Pocessing: 5728\n",
            "Rows After Pre-Pocessing: 5695\n"
          ]
        }
      ],
      "source": [
        "print(f\"Rows Before Pre-Pocessing: {len(data.index)}\")\n",
        "\n",
        "# drops duplicate rows. no need to have too many rows of the same values\n",
        "data.drop_duplicates(inplace=True)\n",
        "\n",
        "# since there are only 2 columns if any of them are null then those rows dont serve any functions\n",
        "data.dropna(axis = 'index')\n",
        "\n",
        "print(f\"Rows After Pre-Pocessing: {len(data.index)}\")"
      ]
    },
    {
      "cell_type": "code",
      "execution_count": null,
      "metadata": {
        "id": "FR1cYfgKpFyl"
      },
      "outputs": [],
      "source": [
        "from sklearn.model_selection import train_test_split\n",
        "\n",
        "x = data.text.values\n",
        "y = data.spam.values\n",
        "xTrain, xTest, yTrain, yTest = train_test_split(x, y, train_size = 0.8, stratify = y)"
      ]
    },
    {
      "cell_type": "code",
      "execution_count": null,
      "metadata": {
        "id": "ZrZvPxklpFym"
      },
      "outputs": [],
      "source": [
        "from sklearn.feature_extraction.text import CountVectorizer\n",
        "\n",
        "cv = CountVectorizer()\n",
        "\n",
        "# converting word to numbers via counting word frequencies: eg. \"i hate spam. spam is bad\" -> i = 1, hate = 1, spam = 2, is = 1, bad = 1\n",
        "xTrain_cv = cv.fit_transform(xTrain)\n",
        "xTest_cv = cv.transform(xTest)"
      ]
    },
    {
      "cell_type": "markdown",
      "metadata": {
        "id": "GcLLGh2ppFyn"
      },
      "source": [
        "##### Correlation"
      ]
    },
    {
      "cell_type": "code",
      "execution_count": null,
      "metadata": {
        "colab": {
          "base_uri": "https://localhost:8080/"
        },
        "id": "o1jl1CuXpFyo",
        "outputId": "9950fbef-3961-4b1d-b379-d25b7a831c23"
      },
      "outputs": [
        {
          "output_type": "execute_result",
          "data": {
            "text/plain": [
              "00            -0.032466\n",
              "000            0.082383\n",
              "0000           0.128730\n",
              "000000         0.026358\n",
              "00000000      -0.011780\n",
              "                 ...   \n",
              "zzmacmac      -0.008329\n",
              "zzn            0.026358\n",
              "zzncacst      -0.011780\n",
              "zzzz           0.047162\n",
              "spam@unique    1.000000\n",
              "Length: 33723, dtype: float64"
            ]
          },
          "metadata": {},
          "execution_count": 5
        }
      ],
      "source": [
        "\n",
        "cvDf = pd.DataFrame(xTrain_cv.todense(), columns=cv.get_feature_names_out())\n",
        "cvDf['spam@unique'] = yTrain\n",
        "correlation = cvDf.corrwith(cvDf['spam@unique'])\n",
        "correlation"
      ]
    },
    {
      "cell_type": "code",
      "execution_count": null,
      "metadata": {
        "colab": {
          "base_uri": "https://localhost:8080/",
          "height": 295
        },
        "id": "agFY4pCVpFyp",
        "outputId": "194e2b73-7317-4e18-c7c7-fb2dc8c4f0ae"
      },
      "outputs": [
        {
          "output_type": "display_data",
          "data": {
            "text/plain": [
              "<Figure size 432x288 with 1 Axes>"
            ],
            "image/png": "[encoded data removed]"
          },
          "metadata": {
            "needs_background": "light"
          }
        }
      ],
      "source": [
        "import matplotlib.pyplot as plt\n",
        "\n",
        "N, bins, patches  = plt.hist(correlation)\n",
        "\n",
        "\n",
        "patches[1].set_facecolor('blue')\n",
        "patches[2].set_facecolor('green')\n",
        "patches[3].set_facecolor('red')\n",
        "# rest are default colors\n",
        "\n",
        "plt.xlabel('Correlation')\n",
        "plt.ylabel('Count of columns')\n",
        "plt.title('Count of columns in each correlation group')\n",
        "\n",
        "plt.show()"
      ]
    },
    {
      "cell_type": "markdown",
      "source": [],
      "metadata": {
        "id": "UEqjh-KuXJ6U"
      }
    },
    {
      "cell_type": "markdown",
      "metadata": {
        "id": "yRminX19pFyq"
      },
      "source": [
        "Since all of the word frequencies(x-variables) have almost no correlation with whether the email being spam or not (y), it can be concluded that the x-variables are not independent among each other. The x-variables are most likely dependant among each other.\n",
        "\n",
        "##### Scaling"
      ]
    },
    {
      "cell_type": "code",
      "execution_count": null,
      "metadata": {
        "id": "i0OYk6JHpFyr"
      },
      "outputs": [],
      "source": [
        "from sklearn.preprocessing import MaxAbsScaler\n",
        "\n",
        "mas = MaxAbsScaler()\n",
        "mas.fit(xTrain_cv)\n",
        "xTrainScaled = mas.transform(xTrain_cv)\n",
        "xTestScaled = mas.transform(xTest_cv)\n",
        "# All x variables are scaled to be 0 to 1"
      ]
    },
    {
      "cell_type": "markdown",
      "metadata": {
        "id": "Kuhj8753pFyr"
      },
      "source": [
        "### Modelling Data"
      ]
    },
    {
      "cell_type": "code",
      "execution_count": null,
      "metadata": {
        "id": "A4bNYnJppFyr"
      },
      "outputs": [],
      "source": [
        "def modelData(model, scaled=True):\n",
        "  x = xTrainScaled if scaled else xTrain_cv\n",
        "  y = yTrain\n",
        "  model.fit(x,y)\n",
        "  return model"
      ]
    },
    {
      "cell_type": "code",
      "execution_count": null,
      "metadata": {
        "id": "r7EGfDXepFys"
      },
      "outputs": [],
      "source": [
        "from sklearn.metrics import precision_score, f1_score, recall_score, roc_curve, roc_auc_score, ConfusionMatrixDisplay\n",
        "\n",
        "\n",
        "def display_score(trained_model, scaled = True, probability = True):\n",
        "  x = xTestScaled if scaled else xTest_cv\n",
        "  y = yTest\n",
        "  y_pred = trained_model.predict(x)\n",
        "  name = str(type(trained_model).__name__)\n",
        "  name += \" <Scaled Data>\" if scaled else \"\"\n",
        "\n",
        "  acc = trained_model.score(x, y)\n",
        "  prec = precision_score(y, y_pred)\n",
        "  f1scre = f1_score(y, y_pred)\n",
        "  recal = recall_score(y, y_pred)\n",
        "  \n",
        "  print(f\"Accuracy: {acc}\\nPrecision: {prec}\\nF1 Score: {f1scre}\\nRecall Score: {recal}\\n\")\n",
        "\n",
        "  fpr, tpr = None, None\n",
        "  if probability:\n",
        "    y_score = trained_model.predict_proba(x)\n",
        "    y_score = y_score[:, 1]\n",
        "    rocAuc = roc_auc_score(y, y_score)\n",
        "    fpr, tpr, _ = roc_curve(y, y_score)\n",
        "    print(f\"ROC AUC score: {rocAuc}\")\n",
        "  \n",
        "  mat = ConfusionMatrixDisplay.from_predictions( y, y_pred)\n",
        "  plt.title(f\"Confusion matrix for {name}\")\n",
        "  plt.show()\n",
        "  \n",
        "  return {\"name\":name , \"acc\": acc, \"prec\":prec, \"f1scre\":f1scre, \"recal\":recal, \"fpr\":fpr, \"tpr\":tpr, \"mat\": mat}"
      ]
    },
    {
      "cell_type": "code",
      "execution_count": null,
      "metadata": {
        "id": "HZ8TOkpHpFys"
      },
      "outputs": [],
      "source": [
        "customTests = [\n",
        "  \"Hello sir! When is the deadline for CSE422 project report submission?\",\n",
        "  \"Dear Students, The University is happy to offer a student transport service and wishes to keep the price as low as feasible while covering the cost of the service. You all know that the price of fuel has increased significantly: the price of diesel has increased by 42.5% (Previous price- Tk.80, New price Tk.114).Bus fares have already been raised across the country. Despite the increase in the fuel price, the University will keep the student transport fares unchanged for the remainder of the current semester. There will be a need, however, to increase the fare to Tk. 90 from Tk.70 with effect from the start of the fall semester. The University hopes that you will understand the pressures that have led to this change. Best regards, Office of the Registrar\",\n",
        "  \"Click here to get free discord nitro\"\n",
        "  ]\n",
        "customTests_cv = cv.transform(customTests)\n",
        "customTestsScaled = mas.transform(customTests_cv)\n",
        "\n",
        "def getCustomTestResults(model, scaled=True):\n",
        "\n",
        "  results = model.predict(customTestsScaled if scaled else customTests_cv)\n",
        "  assert len(results) == len(customTests), f\"length of results, {len(results)} and tests, {len(customTests)} are unequal\"\n",
        "  for i in range(len(results)):\n",
        "    spam = \"spam\" if results[i] == 1 else \"ok\"\n",
        "    if len(customTests[i]) > 80:\n",
        "      print(f\"{spam}  -->  \\\"{customTests[i][0:35]} ... {customTests[i][-35:]}\\\"\")\n",
        "    else:\n",
        "      print(f\"{spam}  -->  \\\"{customTests[i]}\\\"\")"
      ]
    },
    {
      "cell_type": "markdown",
      "metadata": {
        "id": "sIlb6QszpFyt"
      },
      "source": [
        "##### Multinomial Naive Bayes"
      ]
    },
    {
      "cell_type": "code",
      "execution_count": null,
      "metadata": {
        "colab": {
          "base_uri": "https://localhost:8080/",
          "height": 451
        },
        "id": "blWFuxBlpFyu",
        "outputId": "58673e6d-2950-4cec-9f1c-63220c257dc3"
      },
      "outputs": [
        {
          "output_type": "stream",
          "name": "stdout",
          "text": [
            "Accuracy: 0.9798068481123793\n",
            "Precision: 1.0\n",
            "F1 Score: 0.9561904761904763\n",
            "Recall Score: 0.916058394160584\n",
            "\n",
            "ROC AUC score: 0.9964263111261128\n"
          ]
        },
        {
          "output_type": "display_data",
          "data": {
            "text/plain": [
              "<Figure size 432x288 with 2 Axes>"
            ],
            "image/png": "[encoded data removed]"
          },
          "metadata": {
            "needs_background": "light"
          }
        },
        {
          "output_type": "stream",
          "name": "stdout",
          "text": [
            "ok  -->  \"Hello sir! When is the deadline for CSE422 project report submission?\"\n",
            "ok  -->  \"Dear Students, The University is ha ... st regards, Office of the Registrar\"\n",
            "ok  -->  \"Click here to get free discord nitro\"\n"
          ]
        }
      ],
      "source": [
        "from sklearn.naive_bayes import MultinomialNB as MNB\n",
        "\n",
        "# scaled\n",
        "mnbModelScaled = modelData(MNB())\n",
        "\n",
        "mnbS = display_score(mnbModelScaled)\n",
        "\n",
        "getCustomTestResults(mnbModelScaled)"
      ]
    },
    {
      "cell_type": "code",
      "execution_count": null,
      "metadata": {
        "colab": {
          "base_uri": "https://localhost:8080/",
          "height": 451
        },
        "id": "g2inpMYqpFyu",
        "outputId": "0466fc9c-35aa-46d2-fc5b-7b34f42f6d8f"
      },
      "outputs": [
        {
          "output_type": "stream",
          "name": "stdout",
          "text": [
            "Accuracy: 0.9894644424934153\n",
            "Precision: 0.9678571428571429\n",
            "F1 Score: 0.9783393501805053\n",
            "Recall Score: 0.9890510948905109\n",
            "\n",
            "ROC AUC score: 0.9979325766845281\n"
          ]
        },
        {
          "output_type": "display_data",
          "data": {
            "text/plain": [
              "<Figure size 432x288 with 2 Axes>"
            ],
            "image/png": "[encoded data removed]"
          },
          "metadata": {
            "needs_background": "light"
          }
        },
        {
          "output_type": "stream",
          "name": "stdout",
          "text": [
            "ok  -->  \"Hello sir! When is the deadline for CSE422 project report submission?\"\n",
            "ok  -->  \"Dear Students, The University is ha ... st regards, Office of the Registrar\"\n",
            "spam  -->  \"Click here to get free discord nitro\"\n"
          ]
        }
      ],
      "source": [
        "mnbModel = modelData(MNB(), False)\n",
        "\n",
        "mnb = display_score(mnbModel, False)\n",
        "\n",
        "getCustomTestResults(mnbModel, False)"
      ]
    },
    {
      "cell_type": "markdown",
      "metadata": {
        "id": "WOVhWHqIpFyv"
      },
      "source": [
        "##### Support Vector Classifier"
      ]
    },
    {
      "cell_type": "code",
      "execution_count": null,
      "metadata": {
        "colab": {
          "base_uri": "https://localhost:8080/",
          "height": 451
        },
        "id": "Wy069HqopFyv",
        "outputId": "9d04b869-6433-4ca1-9a0a-d9fd85a0162c"
      },
      "outputs": [
        {
          "output_type": "stream",
          "name": "stdout",
          "text": [
            "Accuracy: 0.9675153643546971\n",
            "Precision: 0.9610894941634242\n",
            "F1 Score: 0.9303201506591338\n",
            "Recall Score: 0.9014598540145985\n",
            "\n",
            "ROC AUC score: 0.9955022994810345\n"
          ]
        },
        {
          "output_type": "display_data",
          "data": {
            "text/plain": [
              "<Figure size 432x288 with 2 Axes>"
            ],
            "image/png": "[encoded data removed]"
          },
          "metadata": {
            "needs_background": "light"
          }
        },
        {
          "output_type": "stream",
          "name": "stdout",
          "text": [
            "ok  -->  \"Hello sir! When is the deadline for CSE422 project report submission?\"\n",
            "ok  -->  \"Dear Students, The University is ha ... st regards, Office of the Registrar\"\n",
            "ok  -->  \"Click here to get free discord nitro\"\n"
          ]
        }
      ],
      "source": [
        "from sklearn.svm import SVC\n",
        "\n",
        "# scaled\n",
        "svcModelScaled = modelData( SVC(kernel=\"linear\", probability = True) )\n",
        "\n",
        "svcS = display_score(svcModelScaled, probability= True )\n",
        "\n",
        "getCustomTestResults(svcModelScaled )"
      ]
    },
    {
      "cell_type": "code",
      "execution_count": null,
      "metadata": {
        "colab": {
          "base_uri": "https://localhost:8080/",
          "height": 451
        },
        "id": "rfqMGgTCpFyw",
        "outputId": "28008fde-2774-4132-b215-91b16680c3ce"
      },
      "outputs": [
        {
          "output_type": "stream",
          "name": "stdout",
          "text": [
            "Accuracy: 0.9877085162423178\n",
            "Precision: 0.9814814814814815\n",
            "F1 Score: 0.9742647058823529\n",
            "Recall Score: 0.9671532846715328\n",
            "\n",
            "ROC AUC score: 0.9983587190413906\n"
          ]
        },
        {
          "output_type": "display_data",
          "data": {
            "text/plain": [
              "<Figure size 432x288 with 2 Axes>"
            ],
            "image/png": "[encoded data removed]"
          },
          "metadata": {
            "needs_background": "light"
          }
        },
        {
          "output_type": "stream",
          "name": "stdout",
          "text": [
            "ok  -->  \"Hello sir! When is the deadline for CSE422 project report submission?\"\n",
            "ok  -->  \"Dear Students, The University is ha ... st regards, Office of the Registrar\"\n",
            "spam  -->  \"Click here to get free discord nitro\"\n"
          ]
        }
      ],
      "source": [
        "svcModel = modelData( SVC(kernel=\"linear\", probability=True) , False)\n",
        "\n",
        "svc = display_score(svcModel, False, True)\n",
        "\n",
        "getCustomTestResults(svcModel, False)"
      ]
    },
    {
      "cell_type": "markdown",
      "metadata": {
        "id": "AdHgqVZjpFyw"
      },
      "source": [
        "##### Random Forest Classifier"
      ]
    },
    {
      "cell_type": "code",
      "execution_count": null,
      "metadata": {
        "colab": {
          "base_uri": "https://localhost:8080/",
          "height": 451
        },
        "id": "7mMe7A5CpFyx",
        "outputId": "0b8e6b84-3718-4d7c-b211-057d792f50f8"
      },
      "outputs": [
        {
          "output_type": "stream",
          "name": "stdout",
          "text": [
            "Accuracy: 0.9604916593503073\n",
            "Precision: 1.0\n",
            "F1 Score: 0.9105367793240556\n",
            "Recall Score: 0.8357664233576643\n",
            "\n",
            "ROC AUC score: 0.9960697860849753\n"
          ]
        },
        {
          "output_type": "display_data",
          "data": {
            "text/plain": [
              "<Figure size 432x288 with 2 Axes>"
            ],
            "image/png": "[encoded data removed]"
          },
          "metadata": {
            "needs_background": "light"
          }
        },
        {
          "output_type": "stream",
          "name": "stdout",
          "text": [
            "ok  -->  \"Hello sir! When is the deadline for CSE422 project report submission?\"\n",
            "ok  -->  \"Dear Students, The University is ha ... st regards, Office of the Registrar\"\n",
            "ok  -->  \"Click here to get free discord nitro\"\n"
          ]
        }
      ],
      "source": [
        "from sklearn.ensemble import RandomForestClassifier as RFC\n",
        "\n",
        "# scaled\n",
        "rfcModelScaled = modelData(RFC(n_estimators=50))\n",
        "\n",
        "rfcS = display_score(rfcModelScaled)\n",
        "\n",
        "getCustomTestResults(rfcModelScaled)"
      ]
    },
    {
      "cell_type": "code",
      "execution_count": null,
      "metadata": {
        "colab": {
          "base_uri": "https://localhost:8080/",
          "height": 451
        },
        "id": "GqFcoT67pFyx",
        "outputId": "0c879e16-a545-464e-a196-802536dc0749"
      },
      "outputs": [
        {
          "output_type": "stream",
          "name": "stdout",
          "text": [
            "Accuracy: 0.9675153643546971\n",
            "Precision: 0.991701244813278\n",
            "F1 Score: 0.9281553398058252\n",
            "Recall Score: 0.8722627737226277\n",
            "\n",
            "ROC AUC score: 0.9965845322982152\n"
          ]
        },
        {
          "output_type": "display_data",
          "data": {
            "text/plain": [
              "<Figure size 432x288 with 2 Axes>"
            ],
            "image/png": "[encoded data removed]"
          },
          "metadata": {
            "needs_background": "light"
          }
        },
        {
          "output_type": "stream",
          "name": "stdout",
          "text": [
            "ok  -->  \"Hello sir! When is the deadline for CSE422 project report submission?\"\n",
            "ok  -->  \"Dear Students, The University is ha ... st regards, Office of the Registrar\"\n",
            "ok  -->  \"Click here to get free discord nitro\"\n"
          ]
        }
      ],
      "source": [
        "rfcModel = modelData(RFC(n_estimators=50), False)\n",
        "\n",
        "rfc = display_score(rfcModel, False)\n",
        "\n",
        "getCustomTestResults(rfcModel, False)"
      ]
    },
    {
      "cell_type": "markdown",
      "metadata": {
        "id": "9S5euXN7pFyy"
      },
      "source": [
        "### Results"
      ]
    },
    {
      "cell_type": "code",
      "execution_count": null,
      "metadata": {
        "colab": {
          "base_uri": "https://localhost:8080/",
          "height": 1000
        },
        "id": "HQFdKg6KpFyy",
        "outputId": "7250ad43-9212-4c52-fe7a-9825c026a60c"
      },
      "outputs": [
        {
          "output_type": "display_data",
          "data": {
            "text/plain": [
              "<Figure size 432x288 with 1 Axes>"
            ],
            "image/png": "[encoded data removed]"
          },
          "metadata": {
            "needs_background": "light"
          }
        },
        {
          "output_type": "display_data",
          "data": {
            "text/plain": [
              "<Figure size 432x288 with 1 Axes>"
            ],
            "image/png": "[encoded data removed]"
          },
          "metadata": {
            "needs_background": "light"
          }
        },
        {
          "output_type": "display_data",
          "data": {
            "text/plain": [
              "<Figure size 432x288 with 1 Axes>"
            ],
            "image/png": "[encoded data removed]"
          },
          "metadata": {
            "needs_background": "light"
          }
        }
      ],
      "source": [
        "# create data\n",
        "def algoResArray(algo):\n",
        "  return [ algo[\"name\"], algo[\"acc\"], algo[\"prec\"], algo[\"f1scre\"], algo[\"recal\"] ]\n",
        "\n",
        "def displayScore(algo1, algo2):\n",
        "  df = pd.DataFrame([\n",
        "    algoResArray(algo1), \n",
        "    algoResArray(algo2),\n",
        "  ],\n",
        "\n",
        "  columns=[ 'Algorithm', \"accuracy\", \"precision\", \"f1 score\", \"recall\" ])\n",
        "\n",
        "  df.plot(\n",
        "    x='Algorithm',\n",
        "    kind='bar',\n",
        "    stacked=False,\n",
        "    title='Algorigthm score comparison',\n",
        "    ylim=(0.8,1)\n",
        "  )\n",
        "\n",
        "displayScore(mnb, mnbS)\n",
        "displayScore(svc, svcS)\n",
        "displayScore(rfc, rfcS)\n"
      ]
    },
    {
      "cell_type": "markdown",
      "metadata": {
        "id": "4aeQp_LopFyy"
      },
      "source": [
        "##### ROC-Curve"
      ]
    },
    {
      "cell_type": "code",
      "execution_count": null,
      "metadata": {
        "id": "qVrqp2i0pFyy",
        "outputId": "e97860e4-5e6d-441a-c99c-e4b9c7e80bc1",
        "colab": {
          "base_uri": "https://localhost:8080/",
          "height": 295
        }
      },
      "outputs": [
        {
          "output_type": "display_data",
          "data": {
            "text/plain": [
              "<Figure size 432x288 with 1 Axes>"
            ],
            "image/png": "[encoded data removed]"
          },
          "metadata": {
            "needs_background": "light"
          }
        }
      ],
      "source": [
        "plt.plot(mnb[\"fpr\"], mnb[\"tpr\"], label= \"Multinomial Naive Bayes\")\n",
        "\n",
        "plt.plot(svc[\"fpr\"], svc[\"tpr\"], label= \"Support Vector Classifier\")\n",
        "\n",
        "plt.plot(rfc[\"fpr\"], rfc[\"tpr\"], label= \"Random Forest Classifier\")\n",
        "\n",
        "plt.title('ROC Curves for different algorithms')\n",
        "plt.xlabel('False Positive Rate')\n",
        "plt.ylabel('True Positive Rate')\n",
        "plt.legend()\n",
        "plt.show()"
      ]
    }
  ],
  "metadata": {
    "colab": {
      "provenance": []
    },
    "kernelspec": {
      "display_name": "Python 3 (ipykernel)",
      "language": "python",
      "name": "python3"
    },
    "language_info": {
      "codemirror_mode": {
        "name": "ipython",
        "version": 3
      },
      "file_extension": ".py",
      "mimetype": "text/x-python",
      "name": "python",
      "nbconvert_exporter": "python",
      "pygments_lexer": "ipython3",
      "version": "3.10.5"
    },
    "vscode": {
      "interpreter": {
        "hash": "369f2c481f4da34e4445cda3fffd2e751bd1c4d706f27375911949ba6bb62e1c"
      }
    }
  },
  "nbformat": 4,
  "nbformat_minor": 0
}